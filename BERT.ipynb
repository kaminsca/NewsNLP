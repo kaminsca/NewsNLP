{
  "cells": [
    {
      "cell_type": "code",
      "execution_count": null,
      "metadata": {
        "colab": {
          "base_uri": "https://localhost:8080/"
        },
        "id": "ae7GuGEN5Kex",
        "outputId": "b1440031-9590-493a-e9b6-f7e2ffa29b7f"
      },
      "outputs": [],
      "source": [
        "!pip install torch pandas datasets scikit-learn\n",
        "!pip install transformers[torch] -U"
      ]
    },
    {
      "cell_type": "code",
      "execution_count": null,
      "metadata": {
        "id": "qosfwzev4FEI"
      },
      "outputs": [],
      "source": [
        "from transformers import AutoTokenizer, AutoModelForSequenceClassification, TrainingArguments, Trainer\n",
        "import numpy as np\n",
        "import pandas as pd\n",
        "from datasets import load_dataset\n",
        "from torch.utils.data.dataset import Dataset\n",
        "from sklearn.model_selection import train_test_split\n",
        "import torch"
      ]
    },
    {
      "cell_type": "code",
      "execution_count": null,
      "metadata": {
        "id": "Rg9n9WmJ89vu"
      },
      "outputs": [],
      "source": [
        "class TextClassifierDataset(Dataset):\n",
        "    def __init__(self, encodings, labels):\n",
        "        self.encodings = encodings\n",
        "        self.labels = labels\n",
        "    def __len__(self):\n",
        "        return len(self.labels)\n",
        "    def __getitem__(self, idx):\n",
        "        item = {key: torch.tensor(val[idx]) for key, val in self.encodings.items()}\n",
        "        item[\"labels\"] = torch.tensor(self.labels[idx], dtype=torch.float)\n",
        "        return item"
      ]
    },
    {
      "cell_type": "code",
      "execution_count": null,
      "metadata": {
        "colab": {
          "base_uri": "https://localhost:8080/"
        },
        "id": "JOxMjfLO46yp",
        "outputId": "56969a00-556f-4a46-efae-3f16edd5b71b"
      },
      "outputs": [],
      "source": [
        "# https://medium.com/@abdurhmanfayad_73788/fine-tuning-bert-for-a-multi-label-classification-problem-on-colab-5ca5b8759f3f\n",
        "df = pd.read_csv('./processed_data.csv', delimiter='|')\n",
        "train_df, test_df = train_test_split(df, test_size=0.2)\n",
        "print(\"Train dataset head:\")\n",
        "print(train_df)"
      ]
    },
    {
      "cell_type": "code",
      "execution_count": null,
      "metadata": {
        "colab": {
          "base_uri": "https://localhost:8080/"
        },
        "id": "n4nbuGX16zkF",
        "outputId": "21da9da8-f74b-4245-b427-ddbd86253ffd"
      },
      "outputs": [],
      "source": [
        "\n",
        "columns = [\"avg_white_pop_pct\",\"avg_median_hh_inc\",\"avg_non_college_pct\"]\n",
        "df_labels_train = train_df[columns]\n",
        "df_labels_test = test_df[columns]\n",
        "\n",
        "#convert to label lists\n",
        "labels_list_train = df_labels_train.values.tolist()\n",
        "labels_list_test = df_labels_test.values.tolist()\n",
        "\n",
        "# set up our text inputs\n",
        "train_texts = train_df['content'].tolist()\n",
        "train_labels = labels_list_train\n",
        "\n",
        "eval_texts = test_df['content'].tolist()\n",
        "eval_labels = labels_list_test\n",
        "\n",
        "print(train_labels)\n",
        "tokenizer = AutoTokenizer.from_pretrained(\"bert-base-uncased\", do_lower_case=True)\n",
        "\n",
        "#TODO: increase max length when we use article content\n",
        "train_encodings = tokenizer(train_texts, padding=\"max_length\", truncation=True, max_length=64)\n",
        "eval_encodings = tokenizer(eval_texts, padding=\"max_length\", truncation=True, max_length=64)\n",
        "\n",
        "print(train_encodings[0])\n",
        "\n",
        "train_dataset = TextClassifierDataset(train_encodings, train_labels)\n",
        "eval_dataset = TextClassifierDataset(eval_encodings, eval_labels)"
      ]
    },
    {
      "cell_type": "code",
      "execution_count": null,
      "metadata": {
        "colab": {
          "base_uri": "https://localhost:8080/",
          "height": 307
        },
        "id": "t7ejxBh863Jh",
        "outputId": "f16ed750-2f2d-480d-8f2f-a194bd89e76d"
      },
      "outputs": [],
      "source": [
        "model = AutoModelForSequenceClassification.from_pretrained(\n",
        "    \"bert-base-uncased\",\n",
        "    problem_type=\"multi_label_classification\",\n",
        "    num_labels=3\n",
        ")\n",
        "\n",
        "training_arguments = TrainingArguments(\n",
        "    output_dir=\"./output\",\n",
        "    evaluation_strategy=\"epoch\",\n",
        "    per_device_train_batch_size=16,\n",
        "    per_device_eval_batch_size=16,\n",
        "    num_train_epochs=4\n",
        ")\n",
        "\n",
        "trainer = Trainer(\n",
        "    model = model,\n",
        "    args = training_arguments,\n",
        "    train_dataset=train_dataset,\n",
        "    eval_dataset=eval_dataset\n",
        ")\n",
        "\n",
        "trainer.train()\n",
        "trainer.save_model(output_dir='./trained_bert')"
      ]
    },
    {
      "cell_type": "code",
      "execution_count": null,
      "metadata": {
        "colab": {
          "base_uri": "https://localhost:8080/",
          "height": 54
        },
        "id": "qUvrM0Bo7HVc",
        "outputId": "8bd2b222-9798-4e78-c41a-9bf7bbf716ab"
      },
      "outputs": [],
      "source": [
        "## Evaluate the model\n",
        "results = trainer.evaluate()\n",
        "print(results)"
      ]
    }
  ],
  "metadata": {
    "accelerator": "GPU",
    "colab": {
      "gpuType": "T4",
      "provenance": []
    },
    "kernelspec": {
      "display_name": "Python 3",
      "name": "python3"
    },
    "language_info": {
      "codemirror_mode": {
        "name": "ipython",
        "version": 3
      },
      "file_extension": ".py",
      "mimetype": "text/x-python",
      "name": "python",
      "nbconvert_exporter": "python",
      "pygments_lexer": "ipython3",
      "version": "3.11.8"
    }
  },
  "nbformat": 4,
  "nbformat_minor": 0
}
